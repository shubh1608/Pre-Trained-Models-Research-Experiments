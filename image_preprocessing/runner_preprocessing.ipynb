{
 "cells": [
  {
   "cell_type": "markdown",
   "metadata": {},
   "source": [
    "## Runner - Image Pre Processing"
   ]
  },
  {
   "cell_type": "code",
   "execution_count": 1,
   "metadata": {},
   "outputs": [
    {
     "name": "stderr",
     "output_type": "stream",
     "text": [
      "C:\\ProgramData\\Anaconda3\\lib\\site-packages\\numpy\\_distributor_init.py:32: UserWarning: loaded more than 1 DLL from .libs:\n",
      "C:\\ProgramData\\Anaconda3\\lib\\site-packages\\numpy\\.libs\\libopenblas.NOIJJG62EMASZI6NYURL6JBKM4EVBGM7.gfortran-win_amd64.dll\n",
      "C:\\ProgramData\\Anaconda3\\lib\\site-packages\\numpy\\.libs\\libopenblas.PYQHXLVVQ7VESDPUVUADXEVJOBGHJPAY.gfortran-win_amd64.dll\n",
      "  stacklevel=1)\n"
     ]
    }
   ],
   "source": [
    "import cv2\n",
    "from pathlib import Path\n",
    "import matplotlib.pyplot as plt\n",
    "import os\n",
    "import numpy as np"
   ]
  },
  {
   "cell_type": "code",
   "execution_count": 2,
   "metadata": {},
   "outputs": [],
   "source": [
    "base_path = \"../dataset/image_classification/\"\n",
    "save_location = \"../dataset/processed_images/image_classification/\""
   ]
  },
  {
   "cell_type": "markdown",
   "metadata": {},
   "source": [
    "def read_class_images_generator(n=50):\n",
    "    for dir in os.listdir(base_path):\n",
    "        if dir == \"mixed\":\n",
    "            continue\n",
    "        images = load_images_from_folder(os.path.join(base_path, dir))\n",
    "        yield (dir, images)\n",
    "            \n",
    "            \n",
    "def load_images_from_folder(folder):\n",
    "    images = []\n",
    "    for filename in os.listdir(folder):\n",
    "        img = cv2.imread(os.path.join(folder,filename))\n",
    "        if img is not None:\n",
    "            images.append((filename, img))\n",
    "    return images\n",
    "    "
   ]
  },
  {
   "cell_type": "code",
   "execution_count": 3,
   "metadata": {},
   "outputs": [],
   "source": [
    "def read_classification_images_generator(base_path):\n",
    "    for dir in os.listdir(base_path):\n",
    "        if dir == \"mixed\":\n",
    "            #to-do - read mixed images\n",
    "            continue\n",
    "        images = load_images_from_folder(os.path.join(base_path, dir))\n",
    "        yield (dir, images)\n",
    "\n",
    "def read_object_detection_images_generator():\n",
    "    # to-do : implement here for reading detection images in batch.\n",
    "    # note : it should return images in tuple form (filename, image), like in class. method\n",
    "    return None\n",
    "\n",
    "def load_images_from_folder(folder):\n",
    "    images = []\n",
    "    filenames = os.listdir(folder)\n",
    "\n",
    "    if per_class_image_read_number != None:\n",
    "        filenames = filenames[:per_class_image_read_number]\n",
    "\n",
    "    for filename in filenames:\n",
    "        img = cv2.imread(os.path.join(folder,filename))\n",
    "        if img is not None:\n",
    "            images.append((filename, img))\n",
    "    return images\n",
    "\n",
    "def save_processed_images(dir, operation_id, processed_images):\n",
    "\n",
    "    location = create_dir(dir, operation_id)\n",
    "\n",
    "    for (filename, image) in processed_images:\n",
    "        cv2.imwrite(os.path.join(location, filename), image)\n",
    "\n",
    "def create_dir(dir, operation_id):\n",
    "    folder_path = os.path.join(save_location, dir)\n",
    "    location = None\n",
    "    if not os.path.exists(folder_path):\n",
    "        location = os.path.join(save_location, dir, str(operation_id))\n",
    "        os.makedirs(location)\n",
    "    else:\n",
    "        location = os.path.join(folder_path, str(operation_id))\n",
    "        os.mkdir(location)\n",
    "    return location"
   ]
  },
  {
   "cell_type": "markdown",
   "metadata": {},
   "source": [
    "### Include more operations below for trying out different pre processing combinations"
   ]
  },
  {
   "cell_type": "code",
   "execution_count": 4,
   "metadata": {},
   "outputs": [],
   "source": [
    "operations_dict = {\n",
    "    1: [\"gray\", \"median_blur\", \"threshold_otsu\"],\n",
    "    2: [\"gray\", \"bilateral_blur\", \"canny\"],\n",
    "    3: [\"gray\", \"gaussian_blur\"]\n",
    "}"
   ]
  },
  {
   "cell_type": "code",
   "execution_count": 5,
   "metadata": {},
   "outputs": [],
   "source": [
    "def operations_performed():\n",
    "    dirs = os.listdir(os.path.join(save_location, \"apple\"))\n",
    "    return list(dirs)            \n",
    "\n",
    "def apply_operations(images_tuple, operations):\n",
    "    processed_images = []\n",
    "    for (filename, image) in images_tuple:\n",
    "        processed_image = image\n",
    "        for operation in operations:\n",
    "            processed_image = lib.dispatcher[operation](processed_image)\n",
    "        processed_images.append((filename, processed_image))\n",
    "    return processed_images\n",
    "\n",
    "def save_processed_images(dir, operation_id, processed_images):\n",
    "    location = os.path.join(save_location, \"\".join([dir, \"/\", str(operation_id)]))\n",
    "    os.mkdir(location)\n",
    "    for (filename, image) in processed_images:\n",
    "        cv2.imwrite(os.path.join(location, filename), image)"
   ]
  },
  {
   "cell_type": "code",
   "execution_count": 6,
   "metadata": {},
   "outputs": [],
   "source": [
    "def process_images(operations_dict):\n",
    "    exclude_operations = operations_performed()\n",
    "    for operation_id in operations_dict:\n",
    "        if str(operation_id) not in exclude_operations:\n",
    "            for images_tuple in utils.read_classification_images_generator(base_path):\n",
    "                processed_images = apply_operations(images_tuple[1], operations_dict[operation_id])\n",
    "                utils.save_processed_images(images_tuple[0], operation_id,  processed_images)"
   ]
  },
  {
   "cell_type": "code",
   "execution_count": null,
   "metadata": {},
   "outputs": [],
   "source": []
  }
 ],
 "metadata": {
  "kernelspec": {
   "display_name": "Python 3",
   "language": "python",
   "name": "python3"
  },
  "language_info": {
   "codemirror_mode": {
    "name": "ipython",
    "version": 3
   },
   "file_extension": ".py",
   "mimetype": "text/x-python",
   "name": "python",
   "nbconvert_exporter": "python",
   "pygments_lexer": "ipython3",
   "version": "3.7.6"
  }
 },
 "nbformat": 4,
 "nbformat_minor": 4
}
