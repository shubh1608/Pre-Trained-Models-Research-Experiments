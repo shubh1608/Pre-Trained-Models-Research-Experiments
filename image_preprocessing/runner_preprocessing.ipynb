{
 "cells": [
  {
   "cell_type": "code",
   "execution_count": null,
   "metadata": {},
   "outputs": [],
   "source": [
    "import cv2\n",
    "from pathlib import Path\n",
    "import matplotlib.pyplot as plt\n",
    "import os\n",
    "import numpy as np"
   ]
  },
  {
   "cell_type": "code",
   "execution_count": null,
   "metadata": {},
   "outputs": [],
   "source": [
    "base_path = \"../../Image-Data-Collection/images/image_classification/\"\n",
    "save_location = \"../../Image-Data-Collection/images/processed_images/image_classification\""
   ]
  },
  {
   "cell_type": "code",
   "execution_count": null,
   "metadata": {},
   "outputs": [],
   "source": [
    "def read_class_images_generator(n=50):\n",
    "    for dir in os.listdir(base_path):\n",
    "        if dir == \"mixed\":\n",
    "            continue\n",
    "        images = load_images_from_folder(os.path.join(base_path, dir))\n",
    "        yield (dir, images)\n",
    "            \n",
    "            \n",
    "def load_images_from_folder(folder):\n",
    "    images = []\n",
    "    for filename in os.listdir(folder):\n",
    "        img = cv2.imread(os.path.join(folder,filename))\n",
    "        if img is not None:\n",
    "            images.append((filename, img))\n",
    "    return images\n",
    "    "
   ]
  },
  {
   "cell_type": "markdown",
   "metadata": {},
   "source": [
    "### Include more operations below for trying out different pre processing combinations"
   ]
  },
  {
   "cell_type": "code",
   "execution_count": null,
   "metadata": {},
   "outputs": [],
   "source": [
    "operations_dict = {\n",
    "    1: [\"gray\", \"median_blur\", \"threshold_otsu\"],\n",
    "    2: [\"gray\", \"bilateral_blur\", \"canny\"],\n",
    "}"
   ]
  },
  {
   "cell_type": "code",
   "execution_count": null,
   "metadata": {},
   "outputs": [],
   "source": [
    "def process_images(operations_dict):\n",
    "    for operation_id in operations_dict:\n",
    "        for images_tuple in read_class_images_generator():\n",
    "            processed_images = apply_operations(images_tuple[1], operations_dict[operation_id])\n",
    "            save_processed_images(images_tuple[0], operation_id,  processed_images)\n",
    "            \n",
    "def apply_operations(images_tuple, operations):\n",
    "    processed_images = []\n",
    "    for (filename, image) in images_tuple:\n",
    "        processed_image = image\n",
    "        for operation in operations:\n",
    "            processed_image = dispatcher[operations](processed_image)\n",
    "        processed_images.add((filename, processed_image))\n",
    "    return processed_images\n",
    "\n",
    "def save_processed_images(dir, operation_id, processed_images):\n",
    "    location = os.path.join(save_location, \"\".join([dir, \"/\", str(operation_id)]))\n",
    "    os.mkdir(location)\n",
    "    for (filename, image) in processed_images:\n",
    "        cv2.imwrite(os.path.join(location, filename), image)"
   ]
  }
 ],
 "metadata": {
  "kernelspec": {
   "display_name": "Python 3",
   "language": "python",
   "name": "python3"
  },
  "language_info": {
   "codemirror_mode": {
    "name": "ipython",
    "version": 3
   },
   "file_extension": ".py",
   "mimetype": "text/x-python",
   "name": "python",
   "nbconvert_exporter": "python",
   "pygments_lexer": "ipython3",
   "version": "3.7.6"
  }
 },
 "nbformat": 4,
 "nbformat_minor": 4
}
