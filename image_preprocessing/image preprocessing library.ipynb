{
 "cells": [
  {
   "cell_type": "markdown",
   "metadata": {},
   "source": [
    "## Modular Pre Processing NoteBook"
   ]
  },
  {
   "cell_type": "code",
   "execution_count": 11,
   "metadata": {},
   "outputs": [],
   "source": [
    "import cv2\n",
    "from pathlib import Path\n",
    "import matplotlib.pyplot as plt\n",
    "import os\n",
    "import numpy as np"
   ]
  },
  {
   "cell_type": "code",
   "execution_count": 12,
   "metadata": {},
   "outputs": [],
   "source": [
    "# constants, hardcoded values\n",
    "operations = [\n",
    "    #color spaces\n",
    "    \"gray\",\n",
    "    \"hsv\",\n",
    "    \n",
    "    #sharpening\n",
    "    \"sharpen\",\n",
    "    \n",
    "    #thresholding\n",
    "    \"threshold_mean\",\n",
    "    \"threshold_gaussian\",\n",
    "    \"threshold_otsu\",\n",
    "    \n",
    "    #smoothing/blurring\n",
    "    \"median_blur\",\n",
    "    \"gaussian_blur\",\n",
    "    \"bilateral_blur\",\n",
    "    \"fastnl_blur\",\n",
    "    \n",
    "    #morphpological operations\n",
    "    \"erosion\",\n",
    "    \"dilation\",\n",
    "    \"opening\",\n",
    "    \"closing\",\n",
    "    \"gradient\",\n",
    "    \n",
    "    #edge detection\n",
    "    \"sobel\",\n",
    "    \"laplacian\",\n",
    "    \"canny\"\n",
    "]"
   ]
  },
  {
   "cell_type": "markdown",
   "metadata": {},
   "source": [
    "### Color Spaces"
   ]
  },
  {
   "cell_type": "code",
   "execution_count": 13,
   "metadata": {},
   "outputs": [],
   "source": [
    "def gray_img(img):\n",
    "    return cv2.cvtColor(img, cv2.COLOR_BGR2GRAY)\n",
    "\n",
    "def hsv_img(img):\n",
    "    return cv2.cvtColor(img, cv2.COLOR_BGR2HSV)"
   ]
  },
  {
   "cell_type": "markdown",
   "metadata": {},
   "source": [
    "### Sharpening"
   ]
  },
  {
   "cell_type": "code",
   "execution_count": 14,
   "metadata": {},
   "outputs": [],
   "source": [
    "def sharpen_img(img):\n",
    "    #sharpening using 3x3 array\n",
    "    kernel_sharpening = np.array([[-1,-1,-1], \n",
    "                                  [-1,9,-1], \n",
    "                                  [-1,-1,-1]])\n",
    "\n",
    "    # applying different kernels to the input image\n",
    "    return cv2.filter2D(img, -1, kernel_sharpening)"
   ]
  },
  {
   "cell_type": "markdown",
   "metadata": {},
   "source": [
    "### Thresholding\n",
    "- works only on **gray images**\n",
    "- it's good practice to blur images before thresholding, but wont do it in this function as we will test different blurring techniques with different thresholding\n",
    "- removing some basic thresholding techniques like binary"
   ]
  },
  {
   "cell_type": "code",
   "execution_count": 15,
   "metadata": {},
   "outputs": [],
   "source": [
    "def threshold_median(img):\n",
    "    if len(img.shape) > 2:\n",
    "        gray_img = cv2.cvtColor(img, cv2.COLOR_BGR2GRAY)\n",
    "    return cv2.adaptiveThreshold(gray_img,255,cv2.ADAPTIVE_THRESH_MEAN_C, cv2.THRESH_BINARY,11,2)\n",
    "\n",
    "def threshold_gaussian(img):\n",
    "    if len(img.shape) > 2:\n",
    "        gray_img = cv2.cvtColor(img, cv2.COLOR_BGR2GRAY)\n",
    "    return cv2.adaptiveThreshold(gray_img,255,cv2.ADAPTIVE_THRESH_GAUSSIAN_C, cv2.THRESH_BINARY,11,2)\n",
    "\n",
    "def threshold_otsu(img):\n",
    "    if len(img.shape) > 2:\n",
    "        gray_img = cv2.cvtColor(img, cv2.COLOR_BGR2GRAY)\n",
    "    return cv2.threshold(gray_img, 0, 255, cv2.THRESH_BINARY + cv2.THRESH_OTSU)[1]"
   ]
  },
  {
   "cell_type": "markdown",
   "metadata": {},
   "source": [
    "### Smoothing/Blurring/Denoising"
   ]
  },
  {
   "cell_type": "code",
   "execution_count": 16,
   "metadata": {},
   "outputs": [],
   "source": [
    "def median_blur(img):\n",
    "    return cv2.medianBlur(img,5)\n",
    "\n",
    "def gaussian_blur(img):\n",
    "    return cv2.GaussianBlur(img,(kernel_size,kernel_size),0)\n",
    "\n",
    "def bilateral_blur(img):\n",
    "    return cv2.bilateralFilter(img,kernel_size,75,75)\n",
    "\n",
    "def fastnl_blur(img):\n",
    "    return cv2.fastNlMeansDenoisingColored(img, None, 7, 21, 10, 10)"
   ]
  },
  {
   "cell_type": "markdown",
   "metadata": {},
   "source": [
    "### Morphological Transformations\n",
    "- normally performed on binary images\n",
    "- Erosion - The basic idea of erosion is just like soil erosion only, it erodes away the boundaries of foreground object (Always try to keep foreground in white), It is useful for removing small white noises\n",
    "- Dilation - opposite of erosion, normally dilation is performed after erosion when removing noise from an images.\n",
    "- Opening - it does just above mentioned thing, i.e perform dilation after erosion.\n",
    "- Closing - Closing is reverse of Opening, Dilation followed by Erosion. It is useful in closing small holes inside the foreground objects, or small black points on the object.\n",
    "- Morphological Gradient - difference between dilation and erosion of an image"
   ]
  },
  {
   "cell_type": "code",
   "execution_count": 17,
   "metadata": {},
   "outputs": [],
   "source": [
    "def erode_img(img):\n",
    "    kernel = np.ones((5,5),np.uint8)\n",
    "    return cv2.erode(img, kernel,iterations = 1)\n",
    "\n",
    "def dilate_img(img):\n",
    "    kernel = np.ones((5,5),np.uint8)\n",
    "    return cv2.dilate(img,kernel,iterations = 1)\n",
    "\n",
    "def open_img(img):\n",
    "    kernel = np.ones((5,5),np.uint8)\n",
    "    return cv2.morphologyEx(img, cv2.MORPH_OPEN, kernel)\n",
    "\n",
    "def close_img(img):\n",
    "    kernel = np.ones((5,5),np.uint8)\n",
    "    return cv2.morphologyEx(img, cv2.MORPH_CLOSE, kernel)\n",
    "\n",
    "def gradient_img(img):\n",
    "    kernel = np.ones((5,5),np.uint8)\n",
    "    return cv2.morphologyEx(img, cv2.MORPH_GRADIENT, kernel)"
   ]
  },
  {
   "cell_type": "markdown",
   "metadata": {},
   "source": [
    "### Edge Detection\n",
    "- gaussian smoothing is already done in sobel operation, so first gaussian smoothing then take derivatives to find gradients"
   ]
  },
  {
   "cell_type": "code",
   "execution_count": 18,
   "metadata": {},
   "outputs": [],
   "source": [
    "def sobel_edge(img):\n",
    "    if len(thres_img.shape) > 2:\n",
    "        img_gray = cv2.cvtColor(img, cv2.COLOR_BGR2GRAY)\n",
    "    sobel_x = cv2.Sobel(img,cv2.CV_64F,1,0,ksize=kernel_size)\n",
    "    sobel_y = cv2.Sobel(img,cv2.CV_64F,0,1,ksize=kernel_size)\n",
    "    sobel_OR = cv2.bitwise_or(sobel_x, sobel_y)\n",
    "    return sobel_OR\n",
    "\n",
    "def laplacian_edge(img):\n",
    "    if len(thres_img.shape) > 2:\n",
    "        img_gray = cv2.cvtColor(img, cv2.COLOR_BGR2GRAY)\n",
    "    return cv2.Laplacian(img,cv2.CV_64F)\n",
    "    \n",
    "def canny_edge(img):\n",
    "    if len(thres_img.shape) > 2:\n",
    "        img_gray = cv2.cvtColor(img, cv2.COLOR_BGR2GRAY)\n",
    "    return cv2.Canny(img,100,200)"
   ]
  },
  {
   "cell_type": "code",
   "execution_count": 19,
   "metadata": {},
   "outputs": [],
   "source": [
    "#preprocessing function dictionary\n",
    "\n",
    "dispatcher = {\n",
    "    #color spaces\n",
    "    \"gray\" : gray_img,\n",
    "    \"hsv\" : hsv_img,\n",
    "    \n",
    "    #sharpening\n",
    "    \"sharpen\" : sharpen_img,\n",
    "    \n",
    "    #thresholding\n",
    "    \"threshold_mean\" : threshold_median,\n",
    "    \"threshold_gaussian\" : threshold_gaussian,\n",
    "    \"threshold_otsu\" : threshold_otsu,\n",
    "    \n",
    "    #smoothing/blurring\n",
    "    \"median_blur\" : median_blur,\n",
    "    \"gaussian_blur\" : gaussian_blur,\n",
    "    \"bilateral_blur\" : bilateral_blur,\n",
    "    \"fastnl_blur\" : fastnl_blur,\n",
    "    \n",
    "    #morphpological operations\n",
    "    \"erosion\" : erode_img,\n",
    "    \"dilation\" : dilate_img,\n",
    "    \"opening\" : open_img,\n",
    "    \"closing\" : close_img,\n",
    "    \"gradient\" : gradient_img,\n",
    "    \n",
    "    #edge detection\n",
    "    \"sobel\" : sobel_edge,\n",
    "    \"laplacian\" : laplacian_edge,\n",
    "    \"canny\" : canny_edge \n",
    "}"
   ]
  }
 ],
 "metadata": {
  "kernelspec": {
   "display_name": "Python 3",
   "language": "python",
   "name": "python3"
  },
  "language_info": {
   "codemirror_mode": {
    "name": "ipython",
    "version": 3
   },
   "file_extension": ".py",
   "mimetype": "text/x-python",
   "name": "python",
   "nbconvert_exporter": "python",
   "pygments_lexer": "ipython3",
   "version": "3.7.6"
  }
 },
 "nbformat": 4,
 "nbformat_minor": 4
}
