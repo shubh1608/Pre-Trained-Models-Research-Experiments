{
 "cells": [
  {
   "cell_type": "markdown",
   "metadata": {},
   "source": [
    "## Object Detection - Tensorflow Models\n",
    "- code reference taken from - https://tensorflow-object-detection-api-tutorial.readthedocs.io/en/latest/auto_examples/plot_object_detection_saved_model.html#sphx-glr-auto-examples-plot-object-detection-saved-model-py"
   ]
  },
  {
   "cell_type": "code",
   "execution_count": null,
   "metadata": {},
   "outputs": [],
   "source": [
    "#import statements\n",
    "import numpy as np\n",
    "from PIL import Image\n",
    "import matplotlib.pyplot as plt\n",
    "import warnings\n",
    "warnings.filterwarnings('ignore')\n",
    "\n",
    "import os\n",
    "os.environ['TF_CPP_MIN_LOG_LEVEL'] = '2'    # Suppress TensorFlow logging (1)\n",
    "import pathlib\n",
    "import tensorflow as tf\n",
    "\n",
    "tf.get_logger().setLevel('ERROR')           # Suppress TensorFlow logging (2)\n",
    "\n",
    "import time\n",
    "from object_detection.utils import label_map_util\n",
    "from object_detection.utils import visualization_utils as viz_utils\n",
    "\n"
   ]
  },
  {
   "cell_type": "markdown",
   "metadata": {},
   "source": [
    "### Model Name List"
   ]
  },
  {
   "cell_type": "code",
   "execution_count": null,
   "metadata": {},
   "outputs": [],
   "source": [
    "model_name_list = [\n",
    "    #('centernet_hg104_1024x1024_coco17_tpu-32', '20200713'),\n",
    "    #('centernet_hg104_512x512_coco17_tpu-8', '20200711'),\n",
    "    #('centernet_resnet50_v1_fpn_512x512_coco17_tpu-8', '20200711'),\n",
    "    #('centernet_resnet50_v2_512x512_coco17_tpu-8', '20200711'),\n",
    "    #('efficientdet_d0_coco17_tpu-32', '20200711'),\n",
    "    ('ssd_mobilenet_v2_320x320_coco17_tpu-8', '20200711'),\n",
    "    #('faster_rcnn_resnet50_v1_640x640_coco17_tpu-8', '20200711'),\n",
    "    #('mask_rcnn_inception_resnet_v2_1024x1024_coco17_gpu-8', '20200711')\n",
    "    #('extremenet', '20200711') some error here, seems like extremenet does not have saved model dir in c/users/shubham/keras\n",
    "]"
   ]
  },
  {
   "cell_type": "markdown",
   "metadata": {},
   "source": [
    "### Fetch Images for inferences"
   ]
  },
  {
   "cell_type": "code",
   "execution_count": null,
   "metadata": {},
   "outputs": [],
   "source": [
    "def download_images():\n",
    "    base_url = 'https://raw.githubusercontent.com/tensorflow/models/master/research/object_detection/test_images/'\n",
    "    filenames = ['image1.jpg', 'image2.jpg']\n",
    "    image_paths = []\n",
    "    for filename in filenames:\n",
    "        image_path = tf.keras.utils.get_file(fname=filename,\n",
    "                                            origin=base_url + filename,\n",
    "                                            untar=False)\n",
    "        image_path = pathlib.Path(image_path)\n",
    "        image_paths.append(str(image_path))\n",
    "    return image_paths\n",
    "\n",
    "IMAGE_PATHS = download_images()"
   ]
  },
  {
   "cell_type": "markdown",
   "metadata": {},
   "source": [
    "### Download the COCO Labels"
   ]
  },
  {
   "cell_type": "code",
   "execution_count": null,
   "metadata": {},
   "outputs": [],
   "source": [
    "def download_labels(filename):\n",
    "    base_url = 'https://raw.githubusercontent.com/tensorflow/models/master/research/object_detection/data/'\n",
    "    label_dir = tf.keras.utils.get_file(fname=filename,\n",
    "                                        origin=base_url + filename,\n",
    "                                        untar=False)\n",
    "    label_dir = pathlib.Path(label_dir)\n",
    "    return str(label_dir)\n",
    "\n",
    "LABEL_FILENAME = 'mscoco_label_map.pbtxt'\n",
    "PATH_TO_LABELS = download_labels(LABEL_FILENAME)"
   ]
  },
  {
   "cell_type": "markdown",
   "metadata": {},
   "source": [
    "### Load label map data (for plotting)"
   ]
  },
  {
   "cell_type": "code",
   "execution_count": null,
   "metadata": {},
   "outputs": [],
   "source": [
    "category_index = label_map_util.create_category_index_from_labelmap(PATH_TO_LABELS,\n",
    "                                                                    use_display_name=True)"
   ]
  },
  {
   "cell_type": "markdown",
   "metadata": {},
   "source": [
    "### Download model from tensorflow.org/models\n",
    "- More models can be found in the TensorFlow 2 Detection Model Zoo. To use a different model you will need the URL name of the specific model. This can be done as follows:\n",
    "1. Right click on the Model name of the model you would like to use;\n",
    "2. Click on Copy link address to copy the download link of the model;\n",
    "3. Paste the link in a text editor of your choice. You should observe a link similar to download.tensorflow.org/models/object_detection/tf2/YYYYYYYY/XXXXXXXXX.tar.gz;\n",
    "4. Copy the XXXXXXXXX part of the link and use it to replace the value of the MODEL_NAME variable in the code shown below;\n",
    "5. Copy the YYYYYYYY part of the link and use it to replace the value of the MODEL_DATE variable in the code shown below."
   ]
  },
  {
   "cell_type": "code",
   "execution_count": null,
   "metadata": {},
   "outputs": [],
   "source": [
    "# Download and extract model\n",
    "def download_model(model_name, model_date):\n",
    "    base_url = 'http://download.tensorflow.org/models/object_detection/tf2/'\n",
    "    model_file = model_name + '.tar.gz'\n",
    "    model_dir = tf.keras.utils.get_file(fname=model_name,\n",
    "                                        origin=base_url + model_date + '/' + model_file,\n",
    "                                        untar=True)\n",
    "    return str(model_dir)\n",
    "\n",
    "def download_models(model_name_list):\n",
    "    model_dir_path_dict = {}\n",
    "    for model_name in model_name_list:\n",
    "        path = download_model(model_name[0], model_name[1])\n",
    "        model_dir_path_dict[model_name[0]] = path\n",
    "        print(\"downloaded {0}\".format(model_name[0]))\n",
    "    return model_dir_path_dict\n",
    "\n",
    "\n",
    "#use below list to know model name and where it is downloaded locally\n",
    "model_dir_path_dict = download_models(model_name_list)"
   ]
  },
  {
   "cell_type": "markdown",
   "metadata": {},
   "source": [
    "### Load the downloaded models from directories"
   ]
  },
  {
   "cell_type": "code",
   "execution_count": null,
   "metadata": {},
   "outputs": [],
   "source": [
    "def load_model(model_name, model_dir):\n",
    "    print(model_dir)\n",
    "    path_to_saved_model = model_dir + \"/saved_model\"\n",
    "\n",
    "    print('Loading model...', end='')\n",
    "    start_time = time.time()\n",
    "\n",
    "    # Load saved model and build the detection function\n",
    "    detect_fn = tf.saved_model.load(path_to_saved_model)\n",
    "\n",
    "    end_time = time.time()\n",
    "    elapsed_time = end_time - start_time\n",
    "    print('Done! Took {} seconds'.format(elapsed_time))\n",
    "    return detect_fn\n",
    "\n",
    "\n",
    "\n",
    "def load_image_into_numpy_array(path):\n",
    "    return np.array(Image.open(path))\n",
    "\n",
    "def detect_objects(model):\n",
    "    object_detections = []\n",
    "    for image_path in IMAGE_PATHS:\n",
    "        print('Running inference for {}... '.format(image_path), end='')\n",
    "\n",
    "        image_np = load_image_into_numpy_array(image_path)\n",
    "\n",
    "        # The input needs to be a tensor, convert it using `tf.convert_to_tensor`.\n",
    "        input_tensor = tf.convert_to_tensor(image_np)\n",
    "        # The model expects a batch of images, so add an axis with `tf.newaxis`.\n",
    "        input_tensor = input_tensor[tf.newaxis, ...]\n",
    "\n",
    "        # input_tensor = np.expand_dims(image_np, 0)\n",
    "        detections = model(input_tensor)\n",
    "        object_detections.append(detections)\n",
    "    return object_detections\n",
    "\n",
    "def visualise_results(detections):\n",
    "    # All outputs are batches tensors.\n",
    "    # Convert to numpy arrays, and take index [0] to remove the batch dimension.\n",
    "    # We're only interested in the first num_detections.\n",
    "    num_detections = int(detections.pop('num_detections'))\n",
    "    detections = {key: value[0, :num_detections].numpy()\n",
    "                   for key, value in detections.items()}\n",
    "    detections['num_detections'] = num_detections\n",
    "\n",
    "    # detection_classes should be ints.\n",
    "    detections['detection_classes'] = detections['detection_classes'].astype(np.int64)\n",
    "\n",
    "    image_np_with_detections = image_np.copy()\n",
    "\n",
    "    viz_utils.visualize_boxes_and_labels_on_image_array(\n",
    "          image_np_with_detections,\n",
    "          detections['detection_boxes'],\n",
    "          detections['detection_classes'],\n",
    "          detections['detection_scores'],\n",
    "          category_index,\n",
    "          use_normalized_coordinates=True,\n",
    "          max_boxes_to_draw=200,\n",
    "          min_score_thresh=.30,\n",
    "          agnostic_mode=False)\n",
    "\n",
    "    plt.figure()\n",
    "    plt.imshow(image_np_with_detections)\n",
    "    plt.show()"
   ]
  },
  {
   "cell_type": "code",
   "execution_count": null,
   "metadata": {},
   "outputs": [],
   "source": [
    "def run_inference(model_name, model_dir):\n",
    "    model = load_model(model_name, model_dir)\n",
    "    detections = detect_objects(model)\n",
    "    #process detections object to output list as per your need\n",
    "    print(\"Model: {0}\".format(model_name))\n",
    "    visualise_results(detections)"
   ]
  },
  {
   "cell_type": "code",
   "execution_count": null,
   "metadata": {},
   "outputs": [],
   "source": [
    "for model in model_dir_path_dict:\n",
    "    run_inference(model, model_dir_path_dict[model])"
   ]
  },
  {
   "cell_type": "code",
   "execution_count": null,
   "metadata": {},
   "outputs": [],
   "source": []
  }
 ],
 "metadata": {
  "kernelspec": {
   "display_name": "Python 3",
   "language": "python",
   "name": "python3"
  },
  "language_info": {
   "codemirror_mode": {
    "name": "ipython",
    "version": 3
   },
   "file_extension": ".py",
   "mimetype": "text/x-python",
   "name": "python",
   "nbconvert_exporter": "python",
   "pygments_lexer": "ipython3",
   "version": "3.7.6"
  }
 },
 "nbformat": 4,
 "nbformat_minor": 4
}
