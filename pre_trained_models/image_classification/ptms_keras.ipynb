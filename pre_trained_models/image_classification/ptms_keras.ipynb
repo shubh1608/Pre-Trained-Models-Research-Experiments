{
 "cells": [
  {
   "cell_type": "markdown",
   "metadata": {},
   "source": [
    "## KERAS - Pre Trained Models"
   ]
  },
  {
   "cell_type": "code",
   "execution_count": 1,
   "metadata": {},
   "outputs": [],
   "source": [
    "# from keras.applications.xception import Xception\n",
    "# from keras.applications.vgg16 import VGG16\n",
    "# from keras.applications.vgg19 import VGG19\n",
    "# from keras.applications.resnet import ResNet50\n",
    "# from keras.applications.resnet import ResNet101\n",
    "# from keras.applications.resnet import ResNet152\n",
    "# from keras.applications.resnet_v2 import ResNet50V2\n",
    "# from keras.applications.resnet_v2 import ResNet101V2\n",
    "# from keras.applications.resnet_v2 import ResNet152V2\n",
    "# from keras.applications.resnext import ResNeXt50\n",
    "# from keras.applications.resnext import ResNeXt101\n",
    "# from keras.applications.inception_v3 import InceptionV3\n",
    "# from keras.applications.inception_resnet_v2 import InceptionResNetV2\n",
    "# from keras.applications.mobilenet import MobileNet\n",
    "# from keras.applications.mobilenet_v2 import MobileNetV2\n",
    "# from keras.applications.densenet import DenseNet121\n",
    "# from keras.applications.densenet import DenseNet169\n",
    "# from keras.applications.densenet import DenseNet201\n",
    "# from keras.applications.nasnet import NASNetLarge\n",
    "# from keras.applications.nasnet import NASNetMobile"
   ]
  },
  {
   "cell_type": "code",
   "execution_count": 2,
   "metadata": {},
   "outputs": [
    {
     "name": "stderr",
     "output_type": "stream",
     "text": [
      "Using TensorFlow backend.\n",
      "C:\\ProgramData\\Anaconda3\\lib\\site-packages\\tensorflow\\python\\framework\\dtypes.py:516: FutureWarning: Passing (type, 1) or '1type' as a synonym of type is deprecated; in a future version of numpy, it will be understood as (type, (1,)) / '(1,)type'.\n",
      "  _np_qint8 = np.dtype([(\"qint8\", np.int8, 1)])\n",
      "C:\\ProgramData\\Anaconda3\\lib\\site-packages\\tensorflow\\python\\framework\\dtypes.py:517: FutureWarning: Passing (type, 1) or '1type' as a synonym of type is deprecated; in a future version of numpy, it will be understood as (type, (1,)) / '(1,)type'.\n",
      "  _np_quint8 = np.dtype([(\"quint8\", np.uint8, 1)])\n",
      "C:\\ProgramData\\Anaconda3\\lib\\site-packages\\tensorflow\\python\\framework\\dtypes.py:518: FutureWarning: Passing (type, 1) or '1type' as a synonym of type is deprecated; in a future version of numpy, it will be understood as (type, (1,)) / '(1,)type'.\n",
      "  _np_qint16 = np.dtype([(\"qint16\", np.int16, 1)])\n",
      "C:\\ProgramData\\Anaconda3\\lib\\site-packages\\tensorflow\\python\\framework\\dtypes.py:519: FutureWarning: Passing (type, 1) or '1type' as a synonym of type is deprecated; in a future version of numpy, it will be understood as (type, (1,)) / '(1,)type'.\n",
      "  _np_quint16 = np.dtype([(\"quint16\", np.uint16, 1)])\n",
      "C:\\ProgramData\\Anaconda3\\lib\\site-packages\\tensorflow\\python\\framework\\dtypes.py:520: FutureWarning: Passing (type, 1) or '1type' as a synonym of type is deprecated; in a future version of numpy, it will be understood as (type, (1,)) / '(1,)type'.\n",
      "  _np_qint32 = np.dtype([(\"qint32\", np.int32, 1)])\n",
      "C:\\ProgramData\\Anaconda3\\lib\\site-packages\\tensorflow\\python\\framework\\dtypes.py:525: FutureWarning: Passing (type, 1) or '1type' as a synonym of type is deprecated; in a future version of numpy, it will be understood as (type, (1,)) / '(1,)type'.\n",
      "  np_resource = np.dtype([(\"resource\", np.ubyte, 1)])\n",
      "C:\\ProgramData\\Anaconda3\\lib\\site-packages\\tensorboard\\compat\\tensorflow_stub\\dtypes.py:541: FutureWarning: Passing (type, 1) or '1type' as a synonym of type is deprecated; in a future version of numpy, it will be understood as (type, (1,)) / '(1,)type'.\n",
      "  _np_qint8 = np.dtype([(\"qint8\", np.int8, 1)])\n",
      "C:\\ProgramData\\Anaconda3\\lib\\site-packages\\tensorboard\\compat\\tensorflow_stub\\dtypes.py:542: FutureWarning: Passing (type, 1) or '1type' as a synonym of type is deprecated; in a future version of numpy, it will be understood as (type, (1,)) / '(1,)type'.\n",
      "  _np_quint8 = np.dtype([(\"quint8\", np.uint8, 1)])\n",
      "C:\\ProgramData\\Anaconda3\\lib\\site-packages\\tensorboard\\compat\\tensorflow_stub\\dtypes.py:543: FutureWarning: Passing (type, 1) or '1type' as a synonym of type is deprecated; in a future version of numpy, it will be understood as (type, (1,)) / '(1,)type'.\n",
      "  _np_qint16 = np.dtype([(\"qint16\", np.int16, 1)])\n",
      "C:\\ProgramData\\Anaconda3\\lib\\site-packages\\tensorboard\\compat\\tensorflow_stub\\dtypes.py:544: FutureWarning: Passing (type, 1) or '1type' as a synonym of type is deprecated; in a future version of numpy, it will be understood as (type, (1,)) / '(1,)type'.\n",
      "  _np_quint16 = np.dtype([(\"quint16\", np.uint16, 1)])\n",
      "C:\\ProgramData\\Anaconda3\\lib\\site-packages\\tensorboard\\compat\\tensorflow_stub\\dtypes.py:545: FutureWarning: Passing (type, 1) or '1type' as a synonym of type is deprecated; in a future version of numpy, it will be understood as (type, (1,)) / '(1,)type'.\n",
      "  _np_qint32 = np.dtype([(\"qint32\", np.int32, 1)])\n",
      "C:\\ProgramData\\Anaconda3\\lib\\site-packages\\tensorboard\\compat\\tensorflow_stub\\dtypes.py:550: FutureWarning: Passing (type, 1) or '1type' as a synonym of type is deprecated; in a future version of numpy, it will be understood as (type, (1,)) / '(1,)type'.\n",
      "  np_resource = np.dtype([(\"resource\", np.ubyte, 1)])\n"
     ]
    }
   ],
   "source": [
    "from pathlib import Path\n",
    "import numpy as np\n",
    "import warnings\n",
    "from keras.preprocessing import image\n",
    "warnings.filterwarnings('ignore')"
   ]
  },
  {
   "cell_type": "code",
   "execution_count": 3,
   "metadata": {},
   "outputs": [
    {
     "name": "stdout",
     "output_type": "stream",
     "text": [
      "WARNING:tensorflow:From C:\\ProgramData\\Anaconda3\\lib\\site-packages\\keras\\backend\\tensorflow_backend.py:4070: The name tf.nn.max_pool is deprecated. Please use tf.nn.max_pool2d instead.\n",
      "\n",
      "WARNING:tensorflow:From C:\\ProgramData\\Anaconda3\\lib\\site-packages\\keras\\backend\\tensorflow_backend.py:4074: The name tf.nn.avg_pool is deprecated. Please use tf.nn.avg_pool2d instead.\n",
      "\n"
     ]
    }
   ],
   "source": [
    "ptms = {}\n",
    "\n",
    "from keras.applications.resnet import ResNet50\n",
    "from keras.applications.resnet import preprocess_input as resnet50_preprocess_input\n",
    "from keras.applications.resnet import decode_predictions as resnet50_decode_predictions\n",
    "ptms[\"resnet50\"] = (ResNet50(weights='imagenet'), resnet50_preprocess_input, resnet50_decode_predictions)\n",
    "\n",
    "from keras.applications.vgg16 import VGG16\n",
    "from keras.applications.vgg16 import preprocess_input as vgg16_preprocess_input\n",
    "from keras.applications.vgg16 import decode_predictions as vgg16_decode_predictions\n",
    "ptms[\"vgg16\"] = (VGG16(weights='imagenet'), vgg16_preprocess_input, vgg16_decode_predictions)\n",
    "\n",
    "from keras.applications.vgg19 import VGG19\n",
    "from keras.applications.vgg19 import preprocess_input as vgg19_preprocess_input\n",
    "from keras.applications.vgg19 import decode_predictions as vgg19_decode_predictions\n",
    "ptms[\"vgg19\"] = (VGG19(weights='imagenet'), vgg19_preprocess_input, vgg19_decode_predictions)\n",
    "\n",
    "from keras.applications.inception_v3 import InceptionV3\n",
    "from keras.applications.inception_v3 import preprocess_input as inception_v3_preprocess_input\n",
    "from keras.applications.inception_v3 import decode_predictions as inception_v3_decode_predictions\n",
    "ptms[\"inception_v3\"] = (InceptionV3(weights='imagenet'), inception_v3_preprocess_input, inception_v3_decode_predictions)\n",
    "\n",
    "from keras.applications.xception import Xception\n",
    "from keras.applications.xception import preprocess_input as xception_preprocess_input\n",
    "from keras.applications.xception import decode_predictions as xception_decode_predictions\n",
    "ptms[\"xception\"] = (Xception(weights='imagenet'), xception_preprocess_input, xception_decode_predictions)\n",
    "\n",
    "from keras.applications.resnet import ResNet101\n",
    "from keras.applications.resnet import preprocess_input as resnet101_preprocess_input\n",
    "from keras.applications.resnet import decode_predictions as resnet101_decode_predictions\n",
    "ptms[\"resnet101\"] = (ResNet101(weights='imagenet'), resnet101_preprocess_input, resnet101_decode_predictions)\n",
    "\n",
    "from keras.applications.resnet import ResNet152\n",
    "from keras.applications.resnet import preprocess_input as resnet152_preprocess_input\n",
    "from keras.applications.resnet import decode_predictions as resnet152_decode_predictions\n",
    "ptms[\"resnet152\"] = (ResNet152(weights='imagenet'), resnet152_preprocess_input, resnet152_decode_predictions)\n",
    "\n",
    "from keras.applications.resnet_v2 import ResNet50V2\n",
    "from keras.applications.resnet_v2 import preprocess_input as resnet50v2_preprocess_input\n",
    "from keras.applications.resnet_v2 import decode_predictions as resnet50v2_decode_predictions\n",
    "ptms[\"resnet50v2\"] = (ResNet50V2(weights='imagenet'), resnet50v2_preprocess_input, resnet50v2_decode_predictions)\n",
    "\n",
    "from keras.applications.resnet_v2 import ResNet101V2\n",
    "from keras.applications.resnet_v2 import preprocess_input as resnet101v2_preprocess_input\n",
    "from keras.applications.resnet_v2 import decode_predictions as resnet101v2_decode_predictions\n",
    "ptms[\"resnet101v2\"] = (ResNet101V2(weights='imagenet'), resnet101v2_preprocess_input, resnet101v2_decode_predictions)"
   ]
  },
  {
   "cell_type": "code",
   "execution_count": 4,
   "metadata": {},
   "outputs": [],
   "source": [
    "data_folder = Path(\"C:/Users/shubham/Desktop/Masters/Image-Data-Collection/images/image_classification/banana\")\n",
    "img_path = data_folder/\"banana_01.jpg\" "
   ]
  },
  {
   "cell_type": "code",
   "execution_count": 5,
   "metadata": {},
   "outputs": [],
   "source": [
    "models_trained_on_299x299 = [\n",
    "    \"inception_v3\", \n",
    "    \"xception\"\n",
    "]"
   ]
  },
  {
   "cell_type": "code",
   "execution_count": 6,
   "metadata": {},
   "outputs": [],
   "source": [
    "def load_imgs(size_default = True):\n",
    "    #change this function to read multiple images\n",
    "    if size_default:\n",
    "        img = image.load_img(img_path, target_size=(224, 224))\n",
    "    else:\n",
    "        img = image.load_img(img_path, target_size=(299, 299))\n",
    "    x = image.img_to_array(img)\n",
    "    x = np.expand_dims(x, axis=0)\n",
    "    return [x]\n",
    "        \n",
    "def preprocess_imgs(preprocess_method, default_size):\n",
    "    processed_imgs = []\n",
    "    imgs = load_imgs(default_size)\n",
    "    for img in imgs:\n",
    "        img = preprocess_method(img)\n",
    "        processed_imgs.append(img)\n",
    "    return processed_imgs\n",
    "    \n",
    "def run_inference(model, preprocess_method, decode_predictions, default_size = True):\n",
    "    imgs = preprocess_imgs(preprocess_method, default_size)\n",
    "    #change line after readinng images in batch\n",
    "    preds = model.predict(imgs[0])\n",
    "    (id, label, label_prob) = resnet50_decode_predictions(preds, top=1)[0][0]\n",
    "    return (label, label_prob)"
   ]
  },
  {
   "cell_type": "code",
   "execution_count": 7,
   "metadata": {},
   "outputs": [
    {
     "name": "stdout",
     "output_type": "stream",
     "text": [
      "WARNING:tensorflow:From C:\\ProgramData\\Anaconda3\\lib\\site-packages\\keras\\backend\\tensorflow_backend.py:422: The name tf.global_variables is deprecated. Please use tf.compat.v1.global_variables instead.\n",
      "\n",
      "PTM-resnet50 predicted banana with probability 0.9579669237136841\n",
      "PTM-vgg16 predicted banana with probability 0.9919053316116333\n",
      "PTM-vgg19 predicted banana with probability 0.9998605251312256\n",
      "PTM-inception_v3 predicted banana with probability 0.9999536275863647\n",
      "PTM-xception predicted banana with probability 0.9547683596611023\n",
      "PTM-resnet101 predicted banana with probability 0.9975118637084961\n",
      "PTM-resnet152 predicted banana with probability 0.9985972046852112\n",
      "PTM-resnet50v2 predicted banana with probability 1.0\n",
      "PTM-resnet101v2 predicted banana with probability 1.0\n"
     ]
    }
   ],
   "source": [
    "for t in ptms:\n",
    "    if t in models_trained_on_299x299:\n",
    "        (label, label_prob) = run_inference(ptms[t][0], ptms[t][1], ptms[t][2], False)\n",
    "    else:\n",
    "        (label, label_prob) = run_inference(ptms[t][0], ptms[t][1], ptms[t][2])\n",
    "    print(\"PTM-{0} predicted {1} with probability {2}\".format(t, label, label_prob)) "
   ]
  }
 ],
 "metadata": {
  "kernelspec": {
   "display_name": "Python 3",
   "language": "python",
   "name": "python3"
  },
  "language_info": {
   "codemirror_mode": {
    "name": "ipython",
    "version": 3
   },
   "file_extension": ".py",
   "mimetype": "text/x-python",
   "name": "python",
   "nbconvert_exporter": "python",
   "pygments_lexer": "ipython3",
   "version": "3.7.6"
  }
 },
 "nbformat": 4,
 "nbformat_minor": 4
}
