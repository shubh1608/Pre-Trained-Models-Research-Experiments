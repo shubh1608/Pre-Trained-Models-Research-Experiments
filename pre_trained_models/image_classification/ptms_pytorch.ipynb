{
 "cells": [
  {
   "cell_type": "markdown",
   "metadata": {},
   "source": [
    "## PyTorch - Pre Trained Models"
   ]
  },
  {
   "cell_type": "code",
   "execution_count": 2,
   "metadata": {},
   "outputs": [],
   "source": [
    "import torchvision.models as models\n",
    "import torch\n",
    "from torchvision import transforms\n",
    "from PIL import Image\n",
    "from pathlib import Path\n",
    "import numpy as np\n",
    "from torch.autograd import Variable\n",
    "import warnings\n",
    "warnings.filterwarnings('ignore')\n",
    "import requests"
   ]
  },
  {
   "cell_type": "code",
   "execution_count": 3,
   "metadata": {},
   "outputs": [],
   "source": [
    "#constants\n",
    "base_path = Path(\"C:/Users/shubham/Desktop/Masters/Image-Data-Collection/images/image_classification/banana\")\n",
    "LABELS_URL = 'https://s3.amazonaws.com/outcome-blog/imagenet/labels.json'\n",
    "response = requests.get(LABELS_URL)  \n",
    "labels = {int(key): value for key, value in response.json().items()}"
   ]
  },
  {
   "cell_type": "code",
   "execution_count": 4,
   "metadata": {},
   "outputs": [],
   "source": [
    "def load_imgs():\n",
    "    img_path = base_path/\"banana_01.jpg\" \n",
    "    return [Image.open(img_path)]\n",
    "\n",
    "def transform_images(imgs):\n",
    "    results = []\n",
    "    for img in imgs:\n",
    "        results.append(apply_tranformations(img))\n",
    "    return results\n",
    "\n",
    "def apply_tranformations(img):\n",
    "    transform = transforms.Compose([            \n",
    "        transforms.Resize(256),                    \n",
    "        transforms.CenterCrop(224),               \n",
    "        transforms.ToTensor(),                     \n",
    "        transforms.Normalize(                      \n",
    "        mean=[0.485, 0.456, 0.406],                \n",
    "        std=[0.229, 0.224, 0.225]                  \n",
    "    )])\n",
    "    transformed_img = transform(img)\n",
    "    #convert it in to format(batch_size, channel, height, width)\n",
    "    transformed_img = transformed_img.unsqueeze(0)\n",
    "    return Variable(transformed_img)\n",
    "\n",
    "def evaluate_results(model, batch_img):\n",
    "    model.eval()\n",
    "    out = model(batch_img)\n",
    "    _, index = torch.max(out, 1)\n",
    "    percentage = torch.nn.functional.softmax(out, dim=1)[0] * 100\n",
    "    return (labels[index[0].item()], percentage[index[0]].item())\n",
    "\n",
    "def run_model_inference(model):\n",
    "    imgs = load_imgs()\n",
    "    tranformed_imgs = transform_images(imgs)\n",
    "    #change below line after reading images in  batch, remove [0]\n",
    "    return evaluate_results(model, tranformed_imgs[0])\n",
    "    "
   ]
  },
  {
   "cell_type": "markdown",
   "metadata": {},
   "source": [
    "#### PTMs\n",
    "- resnet18 = models.resnet18(pretrained=True)\n",
    "- alexnet = models.alexnet(pretrained=True)\n",
    "- squeezenet = models.squeezenet1_0(pretrained=True)\n",
    "- vgg16 = models.vgg16(pretrained=True)\n",
    "- densenet = models.densenet161(pretrained=True)\n",
    "- inception = models.inception_v3(pretrained=True)\n",
    "- googlenet = models.googlenet(pretrained=True)\n",
    "- shufflenet = models.shufflenet_v2_x1_0(pretrained=True)\n",
    "- mobilenet = models.mobilenet_v2(pretrained=True)\n",
    "- resnext50_32x4d = models.resnext50_32x4d(pretrained=True)\n",
    "- wide_resnet50_2 = models.wide_resnet50_2(pretrained=True)\n",
    "- mnasnet = models.mnasnet1_0(pretrained=True)"
   ]
  },
  {
   "cell_type": "code",
   "execution_count": 5,
   "metadata": {},
   "outputs": [],
   "source": [
    "model_dict = {\n",
    "    \"resnet18\" : models.resnet18(pretrained=True),\n",
    "    \"alexnet\" : models.alexnet(pretrained=True),\n",
    "    \"squeezenet\" : models.squeezenet1_0(pretrained=True),\n",
    "    \"vgg16\" : models.vgg16(pretrained=True),\n",
    "    \"densenet\" : models.densenet161(pretrained=True),\n",
    "    \"inception\" : models.inception_v3(pretrained=True),\n",
    "    \"googlenet\" : models.googlenet(pretrained=True),\n",
    "    \"shufflenet\" : models.shufflenet_v2_x1_0(pretrained=True),\n",
    "    \"mobilenet\" : models.mobilenet_v2(pretrained=True),\n",
    "    \"resnext50_32x4d\" : models.resnext50_32x4d(pretrained=True),\n",
    "    \"wide_resnet50_2\" : models.wide_resnet50_2(pretrained=True),\n",
    "    \"mnasnet\" : models.mnasnet1_0(pretrained=True),\n",
    "}"
   ]
  },
  {
   "cell_type": "code",
   "execution_count": 6,
   "metadata": {},
   "outputs": [
    {
     "name": "stdout",
     "output_type": "stream",
     "text": [
      "resnet18 predicted banana with probability 99.99363708496094\n",
      "alexnet predicted banana with probability 99.78365325927734\n",
      "squeezenet predicted banana with probability 99.73633575439453\n",
      "vgg16 predicted banana with probability 99.23688507080078\n",
      "densenet predicted banana with probability 99.97016906738281\n",
      "inception predicted banana with probability 99.9998550415039\n",
      "googlenet predicted banana with probability 97.15626525878906\n",
      "shufflenet predicted banana with probability 99.99506378173828\n",
      "mobilenet predicted banana with probability 99.90476989746094\n",
      "resnext50_32x4d predicted banana with probability 99.99609375\n",
      "wide_resnet50_2 predicted banana with probability 98.88628387451172\n",
      "mnasnet predicted banana with probability 91.8611068725586\n"
     ]
    }
   ],
   "source": [
    "for model in model_dict:\n",
    "    (label, label_prob) = run_model_inference(model_dict[model])\n",
    "    print(\"{0} predicted {2} with probability {1}\".format(model, label_prob, label))"
   ]
  },
  {
   "cell_type": "code",
   "execution_count": null,
   "metadata": {},
   "outputs": [],
   "source": []
  }
 ],
 "metadata": {
  "kernelspec": {
   "display_name": "Python 3",
   "language": "python",
   "name": "python3"
  },
  "language_info": {
   "codemirror_mode": {
    "name": "ipython",
    "version": 3
   },
   "file_extension": ".py",
   "mimetype": "text/x-python",
   "name": "python",
   "nbconvert_exporter": "python",
   "pygments_lexer": "ipython3",
   "version": "3.7.6"
  }
 },
 "nbformat": 4,
 "nbformat_minor": 4
}
